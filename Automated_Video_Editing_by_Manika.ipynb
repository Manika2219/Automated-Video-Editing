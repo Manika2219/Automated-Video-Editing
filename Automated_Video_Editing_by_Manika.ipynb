{
  "nbformat": 4,
  "nbformat_minor": 0,
  "metadata": {
    "colab": {
      "provenance": [],
      "authorship_tag": "ABX9TyOWySc5Gf25U84abo0s35KN",
      "include_colab_link": true
    },
    "kernelspec": {
      "name": "python3",
      "display_name": "Python 3"
    },
    "language_info": {
      "name": "python"
    }
  },
  "cells": [
    {
      "cell_type": "markdown",
      "metadata": {
        "id": "view-in-github",
        "colab_type": "text"
      },
      "source": [
        "<a href=\"https://colab.research.google.com/github/Manika2219/Automated-Video-Editing/blob/main/Automated_Video_Editing_by_Manika.ipynb\" target=\"_parent\"><img src=\"https://colab.research.google.com/assets/colab-badge.svg\" alt=\"Open In Colab\"/></a>"
      ]
    },
    {
      "cell_type": "code",
      "source": [
        "!pip install yt-dlp moviepy"
      ],
      "metadata": {
        "colab": {
          "base_uri": "https://localhost:8080/"
        },
        "id": "zczG1HV0UpP2",
        "outputId": "278f7d90-fe2b-41a5-c3b5-52126ef20579"
      },
      "execution_count": 27,
      "outputs": [
        {
          "output_type": "stream",
          "name": "stdout",
          "text": [
            "Requirement already satisfied: yt-dlp in /usr/local/lib/python3.10/dist-packages (2024.12.6)\n",
            "Requirement already satisfied: moviepy in /usr/local/lib/python3.10/dist-packages (1.0.3)\n",
            "Requirement already satisfied: decorator<5.0,>=4.0.2 in /usr/local/lib/python3.10/dist-packages (from moviepy) (4.4.2)\n",
            "Requirement already satisfied: imageio<3.0,>=2.5 in /usr/local/lib/python3.10/dist-packages (from moviepy) (2.36.1)\n",
            "Requirement already satisfied: imageio_ffmpeg>=0.2.0 in /usr/local/lib/python3.10/dist-packages (from moviepy) (0.5.1)\n",
            "Requirement already satisfied: tqdm<5.0,>=4.11.2 in /usr/local/lib/python3.10/dist-packages (from moviepy) (4.66.6)\n",
            "Requirement already satisfied: numpy>=1.17.3 in /usr/local/lib/python3.10/dist-packages (from moviepy) (1.26.4)\n",
            "Requirement already satisfied: requests<3.0,>=2.8.1 in /usr/local/lib/python3.10/dist-packages (from moviepy) (2.32.3)\n",
            "Requirement already satisfied: proglog<=1.0.0 in /usr/local/lib/python3.10/dist-packages (from moviepy) (0.1.10)\n",
            "Requirement already satisfied: pillow>=8.3.2 in /usr/local/lib/python3.10/dist-packages (from imageio<3.0,>=2.5->moviepy) (11.0.0)\n",
            "Requirement already satisfied: setuptools in /usr/local/lib/python3.10/dist-packages (from imageio_ffmpeg>=0.2.0->moviepy) (75.1.0)\n",
            "Requirement already satisfied: charset-normalizer<4,>=2 in /usr/local/lib/python3.10/dist-packages (from requests<3.0,>=2.8.1->moviepy) (3.4.0)\n",
            "Requirement already satisfied: idna<4,>=2.5 in /usr/local/lib/python3.10/dist-packages (from requests<3.0,>=2.8.1->moviepy) (3.10)\n",
            "Requirement already satisfied: urllib3<3,>=1.21.1 in /usr/local/lib/python3.10/dist-packages (from requests<3.0,>=2.8.1->moviepy) (2.2.3)\n",
            "Requirement already satisfied: certifi>=2017.4.17 in /usr/local/lib/python3.10/dist-packages (from requests<3.0,>=2.8.1->moviepy) (2024.8.30)\n"
          ]
        }
      ]
    },
    {
      "cell_type": "code",
      "source": [
        "import os\n",
        "from moviepy.video.io.VideoFileClip import VideoFileClip\n",
        "from moviepy.editor import concatenate_videoclips"
      ],
      "metadata": {
        "id": "YH-twtFuixgo"
      },
      "execution_count": 28,
      "outputs": []
    },
    {
      "cell_type": "markdown",
      "source": [
        "\n",
        "# Function to download videos using yt-dlp"
      ],
      "metadata": {
        "id": "XL654eYPjut_"
      }
    },
    {
      "cell_type": "code",
      "source": [
        "def download_video_yt_dlp(url, output_path=\"downloads\"):\n",
        "    if not os.path.exists(output_path):\n",
        "        os.makedirs(output_path)\n",
        "    command = f'yt-dlp -f bestvideo[ext=mp4]+bestaudio[ext=m4a]/mp4 -o \"{output_path}/%(title)s.%(ext)s\" {url}'\n",
        "    os.system(command)\n",
        "    downloaded_file = max(\n",
        "        [os.path.join(output_path, f) for f in os.listdir(output_path)],\n",
        "        key=os.path.getctime\n",
        "    )  # Fetch the latest downloaded file\n",
        "    print(f\"Video downloaded: {downloaded_file}\")\n",
        "    return downloaded_file"
      ],
      "metadata": {
        "id": "usR5UzWpi1yx"
      },
      "execution_count": 29,
      "outputs": []
    },
    {
      "cell_type": "markdown",
      "source": [
        "\n",
        "# Function to extract snippets from videos"
      ],
      "metadata": {
        "id": "9mEipnvjjqkY"
      }
    },
    {
      "cell_type": "code",
      "source": [
        "def extract_snippet(video_path, start_time, end_time, output_path=\"snippets\"):\n",
        "    if not os.path.exists(output_path):\n",
        "        os.makedirs(output_path)\n",
        "    video = VideoFileClip(video_path).subclip(start_time, end_time)\n",
        "    snippet_path = os.path.join(output_path, f\"snippet_{start_time}_{end_time}.mp4\")\n",
        "    video.write_videofile(snippet_path, codec=\"libx264\")\n",
        "    print(f\"Snippet saved: {snippet_path}\")\n",
        "    return snippet_path"
      ],
      "metadata": {
        "id": "edWPIObWi489"
      },
      "execution_count": 30,
      "outputs": []
    },
    {
      "cell_type": "markdown",
      "source": [
        "\n",
        "# Function to combine snippets into one video"
      ],
      "metadata": {
        "id": "bh75NX7Djne8"
      }
    },
    {
      "cell_type": "code",
      "source": [
        "def combine_snippets(snippets, output_file=\"final_video.mp4\"):\n",
        "    clips = [VideoFileClip(snippet) for snippet in snippets]\n",
        "    final_video = concatenate_videoclips(clips, method=\"compose\")\n",
        "    final_video.write_videofile(output_file, codec=\"libx264\")\n",
        "    print(f\"Final video saved: {output_file}\")"
      ],
      "metadata": {
        "id": "_G4b3v2Gi8vW"
      },
      "execution_count": 31,
      "outputs": []
    },
    {
      "cell_type": "markdown",
      "source": [
        "# Example YouTube URLs"
      ],
      "metadata": {
        "id": "n6j8f-6VjkFS"
      }
    },
    {
      "cell_type": "code",
      "source": [
        "youtube_urls = [\n",
        "    \"https://youtu.be/W9X7u-MeJz0?si=MxBw1HaZXTneJqcr\",  # Video 1\n",
        "    \"https://youtu.be/mH1w9fQ-tiM?si=vcJANMi-IkBRFOwy\"   # Video 2\n",
        "]\n"
      ],
      "metadata": {
        "id": "Wyl6zsoCi_9Z"
      },
      "execution_count": 32,
      "outputs": []
    },
    {
      "cell_type": "markdown",
      "source": [
        "# Define timestamps for snippets (in seconds)"
      ],
      "metadata": {
        "id": "voXHqUqijfMd"
      }
    },
    {
      "cell_type": "code",
      "source": [
        "timestamps = [\n",
        "    {\"url_index\": 0, \"start\": 12, \"end\": 20},  # First video snippet\n",
        "    {\"url_index\": 1, \"start\": 20, \"end\": 30}   # Second video snippet\n",
        "]"
      ],
      "metadata": {
        "id": "2bI_DoDwjCxg"
      },
      "execution_count": 33,
      "outputs": []
    },
    {
      "cell_type": "markdown",
      "source": [
        "# Step 1: Download Videos"
      ],
      "metadata": {
        "id": "CyYbMU9WjZTI"
      }
    },
    {
      "cell_type": "code",
      "source": [
        "downloaded_videos = []\n",
        "for url in youtube_urls:\n",
        "    downloaded_videos.append(download_video_yt_dlp(url))"
      ],
      "metadata": {
        "colab": {
          "base_uri": "https://localhost:8080/"
        },
        "id": "RNS8BYlTjGET",
        "outputId": "359ea9b0-05ce-4f89-e05f-7d1981f1a70e"
      },
      "execution_count": 34,
      "outputs": [
        {
          "output_type": "stream",
          "name": "stdout",
          "text": [
            "Video downloaded: downloads/Alain de Botton on Emotional Education.mp4\n",
            "Video downloaded: downloads/I'm 24. If you're 14-23 please watch this....mp4\n"
          ]
        }
      ]
    },
    {
      "cell_type": "markdown",
      "source": [
        "# Step 2: Extract Snippets"
      ],
      "metadata": {
        "id": "8DRHkt94jVqy"
      }
    },
    {
      "cell_type": "code",
      "source": [
        "snippets = []\n",
        "for timestamp in timestamps:\n",
        "    video_path = downloaded_videos[timestamp[\"url_index\"]]\n",
        "    snippet = extract_snippet(video_path, timestamp[\"start\"], timestamp[\"end\"])\n",
        "    snippets.append(snippet)"
      ],
      "metadata": {
        "colab": {
          "base_uri": "https://localhost:8080/"
        },
        "id": "nuAMpMVtjJT4",
        "outputId": "a7cd06b8-952a-4369-ffbc-96f3e60881eb"
      },
      "execution_count": 35,
      "outputs": [
        {
          "output_type": "stream",
          "name": "stdout",
          "text": [
            "Moviepy - Building video snippets/snippet_12_20.mp4.\n",
            "MoviePy - Writing audio in snippet_12_20TEMP_MPY_wvf_snd.mp3\n"
          ]
        },
        {
          "output_type": "stream",
          "name": "stderr",
          "text": []
        },
        {
          "output_type": "stream",
          "name": "stdout",
          "text": [
            "MoviePy - Done.\n",
            "Moviepy - Writing video snippets/snippet_12_20.mp4\n",
            "\n"
          ]
        },
        {
          "output_type": "stream",
          "name": "stderr",
          "text": []
        },
        {
          "output_type": "stream",
          "name": "stdout",
          "text": [
            "Moviepy - Done !\n",
            "Moviepy - video ready snippets/snippet_12_20.mp4\n",
            "Snippet saved: snippets/snippet_12_20.mp4\n",
            "Moviepy - Building video snippets/snippet_20_30.mp4.\n",
            "MoviePy - Writing audio in snippet_20_30TEMP_MPY_wvf_snd.mp3\n"
          ]
        },
        {
          "output_type": "stream",
          "name": "stderr",
          "text": []
        },
        {
          "output_type": "stream",
          "name": "stdout",
          "text": [
            "MoviePy - Done.\n",
            "Moviepy - Writing video snippets/snippet_20_30.mp4\n",
            "\n"
          ]
        },
        {
          "output_type": "stream",
          "name": "stderr",
          "text": []
        },
        {
          "output_type": "stream",
          "name": "stdout",
          "text": [
            "Moviepy - Done !\n",
            "Moviepy - video ready snippets/snippet_20_30.mp4\n",
            "Snippet saved: snippets/snippet_20_30.mp4\n"
          ]
        }
      ]
    },
    {
      "cell_type": "markdown",
      "source": [
        "# Step 3: Combine Snippets"
      ],
      "metadata": {
        "id": "n3b0GHwpjRzl"
      }
    },
    {
      "cell_type": "code",
      "source": [
        "combine_snippets(snippets)"
      ],
      "metadata": {
        "colab": {
          "base_uri": "https://localhost:8080/"
        },
        "id": "BetIv0yZjLkn",
        "outputId": "5531c40f-6259-48de-f43e-c24c284d0da4"
      },
      "execution_count": 36,
      "outputs": [
        {
          "output_type": "stream",
          "name": "stdout",
          "text": [
            "Moviepy - Building video final_video.mp4.\n",
            "MoviePy - Writing audio in final_videoTEMP_MPY_wvf_snd.mp3\n"
          ]
        },
        {
          "output_type": "stream",
          "name": "stderr",
          "text": []
        },
        {
          "output_type": "stream",
          "name": "stdout",
          "text": [
            "MoviePy - Done.\n",
            "Moviepy - Writing video final_video.mp4\n",
            "\n"
          ]
        },
        {
          "output_type": "stream",
          "name": "stderr",
          "text": [
            "t:  44%|████▍     | 201/452 [00:30<00:34,  7.18it/s, now=None]WARNING:py.warnings:/usr/local/lib/python3.10/dist-packages/moviepy/video/io/ffmpeg_reader.py:123: UserWarning: Warning: in file snippets/snippet_12_20.mp4, 6220800 bytes wanted but 0 bytes read,at frame 200/202, at time 8.00/8.05 sec. Using the last valid frame instead.\n",
            "  warnings.warn(\"Warning: in file %s, \"%(self.filename)+\n",
            "\n",
            "t:  45%|████▍     | 202/452 [00:30<00:39,  6.26it/s, now=None]WARNING:py.warnings:/usr/local/lib/python3.10/dist-packages/moviepy/video/io/ffmpeg_reader.py:123: UserWarning: Warning: in file snippets/snippet_12_20.mp4, 6220800 bytes wanted but 0 bytes read,at frame 201/202, at time 8.04/8.05 sec. Using the last valid frame instead.\n",
            "  warnings.warn(\"Warning: in file %s, \"%(self.filename)+\n",
            "\n"
          ]
        },
        {
          "output_type": "stream",
          "name": "stdout",
          "text": [
            "Moviepy - Done !\n",
            "Moviepy - video ready final_video.mp4\n",
            "Final video saved: final_video.mp4\n"
          ]
        }
      ]
    }
  ]
}